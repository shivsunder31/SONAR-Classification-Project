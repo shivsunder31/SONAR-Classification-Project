{
  "nbformat": 4,
  "nbformat_minor": 0,
  "metadata": {
    "colab": {
      "provenance": [],
      "authorship_tag": "ABX9TyMp7lyhKn/+8qm64bMAso08",
      "include_colab_link": true
    },
    "kernelspec": {
      "name": "python3",
      "display_name": "Python 3"
    },
    "language_info": {
      "name": "python"
    }
  },
  "cells": [
    {
      "cell_type": "markdown",
      "metadata": {
        "id": "view-in-github",
        "colab_type": "text"
      },
      "source": [
        "<a href=\"https://colab.research.google.com/github/shivsunder31/Underwater_rock_-_mine_prediction_for_submarines.ipynb/blob/main/Underwater_rock_%26_mine_prediction_for_submarines.ipynb\" target=\"_parent\"><img src=\"https://colab.research.google.com/assets/colab-badge.svg\" alt=\"Open In Colab\"/></a>"
      ]
    },
    {
      "cell_type": "code",
      "execution_count": null,
      "metadata": {
        "id": "kxnP8i01GJ2z"
      },
      "outputs": [],
      "source": [
        "import numpy as np\n",
        "import pandas as pd\n",
        "import matplotlib.pyplot as plt\n",
        "import seaborn as sns\n",
        "from sklearn.model_selection import train_test_split, cross_val_score, GridSearchCV\n",
        "from sklearn.preprocessing import StandardScaler\n",
        "from sklearn.linear_model import LogisticRegression\n",
        "from sklearn.svm import SVC\n",
        "from sklearn.feature_selection import SelectKBest, f_classif\n",
        "from sklearn.metrics import accuracy_score, classification_report, confusion_matrix"
      ]
    },
    {
      "cell_type": "code",
      "source": [
        "# Set random seed for reproducibility\n",
        "np.random.seed(42)"
      ],
      "metadata": {
        "id": "Kc0IT_ERGbSn"
      },
      "execution_count": null,
      "outputs": []
    },
    {
      "cell_type": "code",
      "source": [
        "# 1. Data Loading with Error Handling\n",
        "try:\n",
        "    sonar_data = pd.read_csv('/content/Copy of sonar data.csv', header=None)\n",
        "except FileNotFoundError:\n",
        "    print(\"Error: Dataset file 'Copy of sonar data.csv' not found. Please upload the file.\")\n",
        "    exit()\n",
        "except Exception as e:\n",
        "    print(f\"Error loading dataset: {e}\")\n",
        "    exit()"
      ],
      "metadata": {
        "id": "uWmHAOV1Gj-l"
      },
      "execution_count": null,
      "outputs": []
    },
    {
      "cell_type": "code",
      "source": [
        "# 2. Data Exploration\n",
        "print(\"Dataset Shape:\", sonar_data.shape)  # Expected: (208, 61)\n",
        "print(\"\\nClass Distribution:\\n\", sonar_data[60].value_counts())  # Expected: ~111 M, ~97 R\n",
        "print(\"\\nMissing Values:\\n\", sonar_data.isnull().sum().sum())  # Check for missing values\n",
        "print(\"\\nFeature Statistics:\\n\", sonar_data.iloc[:, :-1].describe())"
      ],
      "metadata": {
        "colab": {
          "base_uri": "https://localhost:8080/"
        },
        "id": "HmPD6w7XG23N",
        "outputId": "e033eb47-2681-42db-a4f6-56703677c299"
      },
      "execution_count": null,
      "outputs": [
        {
          "output_type": "stream",
          "name": "stdout",
          "text": [
            "Dataset Shape: (208, 61)\n",
            "\n",
            "Class Distribution:\n",
            " 60\n",
            "M    111\n",
            "R     97\n",
            "Name: count, dtype: int64\n",
            "\n",
            "Missing Values:\n",
            " 0\n",
            "\n",
            "Feature Statistics:\n",
            "                0           1           2           3           4           5   \\\n",
            "count  208.000000  208.000000  208.000000  208.000000  208.000000  208.000000   \n",
            "mean     0.029164    0.038437    0.043832    0.053892    0.075202    0.104570   \n",
            "std      0.022991    0.032960    0.038428    0.046528    0.055552    0.059105   \n",
            "min      0.001500    0.000600    0.001500    0.005800    0.006700    0.010200   \n",
            "25%      0.013350    0.016450    0.018950    0.024375    0.038050    0.067025   \n",
            "50%      0.022800    0.030800    0.034300    0.044050    0.062500    0.092150   \n",
            "75%      0.035550    0.047950    0.057950    0.064500    0.100275    0.134125   \n",
            "max      0.137100    0.233900    0.305900    0.426400    0.401000    0.382300   \n",
            "\n",
            "               6           7           8           9   ...          50  \\\n",
            "count  208.000000  208.000000  208.000000  208.000000  ...  208.000000   \n",
            "mean     0.121747    0.134799    0.178003    0.208259  ...    0.016069   \n",
            "std      0.061788    0.085152    0.118387    0.134416  ...    0.012008   \n",
            "min      0.003300    0.005500    0.007500    0.011300  ...    0.000000   \n",
            "25%      0.080900    0.080425    0.097025    0.111275  ...    0.008425   \n",
            "50%      0.106950    0.112100    0.152250    0.182400  ...    0.013900   \n",
            "75%      0.154000    0.169600    0.233425    0.268700  ...    0.020825   \n",
            "max      0.372900    0.459000    0.682800    0.710600  ...    0.100400   \n",
            "\n",
            "               51          52          53          54          55          56  \\\n",
            "count  208.000000  208.000000  208.000000  208.000000  208.000000  208.000000   \n",
            "mean     0.013420    0.010709    0.010941    0.009290    0.008222    0.007820   \n",
            "std      0.009634    0.007060    0.007301    0.007088    0.005736    0.005785   \n",
            "min      0.000800    0.000500    0.001000    0.000600    0.000400    0.000300   \n",
            "25%      0.007275    0.005075    0.005375    0.004150    0.004400    0.003700   \n",
            "50%      0.011400    0.009550    0.009300    0.007500    0.006850    0.005950   \n",
            "75%      0.016725    0.014900    0.014500    0.012100    0.010575    0.010425   \n",
            "max      0.070900    0.039000    0.035200    0.044700    0.039400    0.035500   \n",
            "\n",
            "               57          58          59  \n",
            "count  208.000000  208.000000  208.000000  \n",
            "mean     0.007949    0.007941    0.006507  \n",
            "std      0.006470    0.006181    0.005031  \n",
            "min      0.000300    0.000100    0.000600  \n",
            "25%      0.003600    0.003675    0.003100  \n",
            "50%      0.005800    0.006400    0.005300  \n",
            "75%      0.010350    0.010325    0.008525  \n",
            "max      0.044000    0.036400    0.043900  \n",
            "\n",
            "[8 rows x 60 columns]\n"
          ]
        }
      ]
    },
    {
      "cell_type": "code",
      "source": [
        "# 3. Data Preprocessing\n",
        "X = sonar_data.drop(columns=60, axis=1)  # Features (208, 60)\n",
        "Y = sonar_data[60]  # Labels (R or M)"
      ],
      "metadata": {
        "id": "Bvo1LTJqG-BV"
      },
      "execution_count": null,
      "outputs": []
    },
    {
      "cell_type": "code",
      "source": [
        "# Feature Selection: Select top 20 features using SelectKBest\n",
        "selector = SelectKBest(score_func=f_classif, k=20)\n",
        "X_selected = selector.fit_transform(X, Y)\n",
        "selected_indices = selector.get_support(indices=True)\n",
        "print(\"\\nSelected Feature Indices:\", selected_indices)"
      ],
      "metadata": {
        "colab": {
          "base_uri": "https://localhost:8080/"
        },
        "id": "pdwaui1hHC4R",
        "outputId": "ad947391-c4fc-481a-8b3d-42dcd3736f8a"
      },
      "execution_count": null,
      "outputs": [
        {
          "output_type": "stream",
          "name": "stdout",
          "text": [
            "\n",
            "Selected Feature Indices: [ 0  1  3  8  9 10 11 12 20 34 35 42 43 44 45 46 47 48 50 51]\n"
          ]
        }
      ]
    },
    {
      "cell_type": "code",
      "source": [
        "# Feature Scaling\n",
        "scaler = StandardScaler()\n",
        "X_scaled = scaler.fit_transform(X_selected)"
      ],
      "metadata": {
        "id": "MM3v-fyjHH26"
      },
      "execution_count": null,
      "outputs": []
    },
    {
      "cell_type": "code",
      "source": [
        "# Train-Test Split (20% test set)\n",
        "X_train, X_test, Y_train, Y_test = train_test_split(\n",
        "    X_scaled, Y, test_size=0.2, stratify=Y, random_state=42\n",
        ")\n",
        "print(\"\\nTrain Shape:\", X_train.shape, \"Test Shape:\", X_test.shape)  # Expected: (166, 20), (42, 20)\n"
      ],
      "metadata": {
        "colab": {
          "base_uri": "https://localhost:8080/"
        },
        "id": "FSVUOWAnHNJ7",
        "outputId": "86a28d96-8409-4c0a-9139-6f1a2c4f147a"
      },
      "execution_count": null,
      "outputs": [
        {
          "output_type": "stream",
          "name": "stdout",
          "text": [
            "\n",
            "Train Shape: (166, 20) Test Shape: (42, 20)\n"
          ]
        }
      ]
    },
    {
      "cell_type": "code",
      "source": [
        "# 4. Model Training and Hyperparameter Tuning\n",
        "# Logistic Regression\n",
        "lr_param_grid = {\n",
        "    'C': [0.01, 0.1, 1, 10, 100],\n",
        "    'solver': ['lbfgs', 'liblinear']\n",
        "}\n",
        "lr_grid = GridSearchCV(LogisticRegression(max_iter=1000), lr_param_grid, cv=5, scoring='accuracy')\n",
        "lr_grid.fit(X_train, Y_train)\n",
        "lr_model = lr_grid.best_estimator_\n",
        "print(\"\\nLogistic Regression Best Parameters:\", lr_grid.best_params_)\n",
        "print(\"Logistic Regression Best CV Score:\", lr_grid.best_score_)\n"
      ],
      "metadata": {
        "colab": {
          "base_uri": "https://localhost:8080/"
        },
        "id": "gfmPEDvWHlf_",
        "outputId": "2af7912e-70b1-4316-810f-35bbce6793cc"
      },
      "execution_count": null,
      "outputs": [
        {
          "output_type": "stream",
          "name": "stdout",
          "text": [
            "\n",
            "Logistic Regression Best Parameters: {'C': 1, 'solver': 'lbfgs'}\n",
            "Logistic Regression Best CV Score: 0.7894830659536544\n"
          ]
        }
      ]
    },
    {
      "cell_type": "code",
      "source": [
        "# Cross-Validation\n",
        "lr_cv_scores = cross_val_score(lr_model, X_train, Y_train, cv=5, scoring='accuracy')\n",
        "print(f\"Logistic Regression CV Accuracy: {lr_cv_scores.mean():.4f} ± {lr_cv_scores.std():.4f}\")\n"
      ],
      "metadata": {
        "colab": {
          "base_uri": "https://localhost:8080/"
        },
        "id": "R4O-x_jmHtvU",
        "outputId": "233c981e-eba6-4d1d-b771-137313576655"
      },
      "execution_count": null,
      "outputs": [
        {
          "output_type": "stream",
          "name": "stdout",
          "text": [
            "Logistic Regression CV Accuracy: 0.7895 ± 0.0406\n"
          ]
        }
      ]
    },
    {
      "cell_type": "code",
      "source": [
        "# SVM (RBF Kernel)\n",
        "svm_model = SVC(kernel='rbf', random_state=42)\n",
        "svm_model.fit(X_train, Y_train)\n",
        "svm_cv_scores = cross_val_score(svm_model, X_train, Y_train, cv=5, scoring='accuracy')\n",
        "print(f\"SVM CV Accuracy: {svm_cv_scores.mean():.4f} ± {svm_cv_scores.std():.4f}\")\n"
      ],
      "metadata": {
        "colab": {
          "base_uri": "https://localhost:8080/"
        },
        "id": "B04F-u8XHxfr",
        "outputId": "d90fd9ea-9a10-4182-8afc-05a41f04353b"
      },
      "execution_count": null,
      "outputs": [
        {
          "output_type": "stream",
          "name": "stdout",
          "text": [
            "SVM CV Accuracy: 0.7717 ± 0.0622\n"
          ]
        }
      ]
    },
    {
      "cell_type": "code",
      "source": [
        "# 5. Model Evaluation\n",
        "# Logistic Regression\n",
        "lr_train_pred = lr_model.predict(X_train)\n",
        "lr_test_pred = lr_model.predict(X_test)\n",
        "lr_train_accuracy = accuracy_score(Y_train, lr_train_pred)\n",
        "lr_test_accuracy = accuracy_score(Y_test, lr_test_pred)\n",
        "print(\"\\nLogistic Regression Training Accuracy:\", lr_train_accuracy)\n",
        "print(\"Logistic Regression Test Accuracy:\", lr_test_accuracy)\n",
        "print(\"\\nLogistic Regression Classification Report:\\n\", classification_report(Y_test, lr_test_pred))"
      ],
      "metadata": {
        "colab": {
          "base_uri": "https://localhost:8080/"
        },
        "id": "yuguyVA2H82h",
        "outputId": "70ad991c-914a-49ce-9655-18cf9df56a9d"
      },
      "execution_count": null,
      "outputs": [
        {
          "output_type": "stream",
          "name": "stdout",
          "text": [
            "\n",
            "Logistic Regression Training Accuracy: 0.8072289156626506\n",
            "Logistic Regression Test Accuracy: 0.7857142857142857\n",
            "\n",
            "Logistic Regression Classification Report:\n",
            "               precision    recall  f1-score   support\n",
            "\n",
            "           M       0.74      0.91      0.82        22\n",
            "           R       0.87      0.65      0.74        20\n",
            "\n",
            "    accuracy                           0.79        42\n",
            "   macro avg       0.80      0.78      0.78        42\n",
            "weighted avg       0.80      0.79      0.78        42\n",
            "\n"
          ]
        }
      ]
    },
    {
      "cell_type": "code",
      "source": [
        "# Confusion Matrix Visualization\n",
        "lr_cm = confusion_matrix(Y_test, lr_test_pred)\n",
        "plt.figure(figsize=(6, 4))\n",
        "sns.heatmap(lr_cm, annot=True, fmt='d', cmap='Blues', xticklabels=['R', 'M'], yticklabels=['R', 'M'])\n",
        "plt.xlabel('Predicted')\n",
        "plt.ylabel('Actual')\n",
        "plt.title('Logistic Regression Confusion Matrix')\n",
        "plt.savefig('lr_confusion_matrix.png')  # Save for portfolio\n",
        "plt.show()"
      ],
      "metadata": {
        "colab": {
          "base_uri": "https://localhost:8080/",
          "height": 410
        },
        "id": "ZmM2FG-cIAIa",
        "outputId": "7a380982-6b09-4465-8a89-21e172de0e39"
      },
      "execution_count": null,
      "outputs": [
        {
          "output_type": "display_data",
          "data": {
            "text/plain": [
              "<Figure size 600x400 with 2 Axes>"
            ],
            "image/png": "[encoded data removed]"
          },
          "metadata": {}
        }
      ]
    },
    {
      "cell_type": "code",
      "source": [
        "# SVM\n",
        "svm_test_pred = svm_model.predict(X_test)\n",
        "svm_test_accuracy = accuracy_score(Y_test, svm_test_pred)\n",
        "print(\"\\nSVM Test Accuracy:\", svm_test_accuracy)\n",
        "print(\"\\nSVM Classification Report:\\n\", classification_report(Y_test, svm_test_pred))\n"
      ],
      "metadata": {
        "colab": {
          "base_uri": "https://localhost:8080/"
        },
        "id": "HmiQKFmrIE94",
        "outputId": "ebef2d20-6652-41bc-f8f6-f9d9203a0087"
      },
      "execution_count": null,
      "outputs": [
        {
          "output_type": "stream",
          "name": "stdout",
          "text": [
            "\n",
            "SVM Test Accuracy: 0.8095238095238095\n",
            "\n",
            "SVM Classification Report:\n",
            "               precision    recall  f1-score   support\n",
            "\n",
            "           M       0.75      0.95      0.84        22\n",
            "           R       0.93      0.65      0.76        20\n",
            "\n",
            "    accuracy                           0.81        42\n",
            "   macro avg       0.84      0.80      0.80        42\n",
            "weighted avg       0.84      0.81      0.80        42\n",
            "\n"
          ]
        }
      ]
    },
    {
      "cell_type": "code",
      "source": [
        "# 6. Feature Importance Visualization (based on SelectKBest scores)\n",
        "feature_scores = selector.scores_[selected_indices]\n",
        "plt.figure(figsize=(10, 6))\n",
        "sns.barplot(x=feature_scores, y=[f'Feature {i}' for i in selected_indices])\n",
        "plt.title('Top 20 Feature Importance Scores')\n",
        "plt.xlabel('Score')\n",
        "plt.savefig('feature_importance.png')  # Save for portfolio\n",
        "plt.show()"
      ],
      "metadata": {
        "colab": {
          "base_uri": "https://localhost:8080/",
          "height": 564
        },
        "id": "hAkyv_vcIKOw",
        "outputId": "6ae7078a-755b-4da3-b6c6-ac5c25babae4"
      },
      "execution_count": null,
      "outputs": [
        {
          "output_type": "display_data",
          "data": {
            "text/plain": [
              "<Figure size 1000x600 with 1 Axes>"
            ],
            "image/png": "[encoded data removed]"
          },
          "metadata": {}
        }
      ]
    },
    {
      "cell_type": "code",
      "source": [
        "# 7. Prediction on New Data with Error Handling\n",
        "input_data = (0.0307, 0.0523, 0.0653, 0.0521, 0.0611, 0.0577, 0.0665, 0.0664, 0.1460, 0.2792,\n",
        "              0.3877, 0.4992, 0.4981, 0.4972, 0.5607, 0.7339, 0.8230, 0.9173, 0.9975, 0.9911,\n",
        "              0.8240, 0.6498, 0.5980, 0.4862, 0.3150, 0.1543, 0.0989, 0.0284, 0.1008, 0.2636,\n",
        "              0.2694, 0.2930, 0.2925, 0.3998, 0.3660, 0.3172, 0.4609, 0.4374, 0.1820, 0.3376,\n",
        "              0.3342, 0.5176, 0.4779, 0.4258, 0.2641, 0.1386, 0.1323, 0.2053, 0.2327, 0.2118,\n",
        "              0.0899, 0.0958, 0.0902, 0.0793, 0.0726, 0.0712, 0.0676, 0.0603, 0.0532, 0.0055)\n",
        "\n",
        "try:\n",
        "    if len(input_data) != 60:\n",
        "        raise ValueError(\"Input data must have exactly 60 features.\")\n",
        "    input_data_selected = np.array(input_data)[selected_indices].reshape(1, -1)  # Select same features\n",
        "    input_data_scaled = scaler.transform(input_data_selected)  # Apply scaling\n",
        "    lr_prediction = lr_model.predict(input_data_scaled)\n",
        "    print(\"\\nLogistic Regression Prediction:\", lr_prediction[0])\n",
        "    print(\"Object is a\", \"Rock\" if lr_prediction[0] == 'R' else \"Mine\")\n",
        "except Exception as e:\n",
        "    print(f\"Error in prediction: {e}\")"
      ],
      "metadata": {
        "colab": {
          "base_uri": "https://localhost:8080/"
        },
        "id": "yxNCAu5rIQFg",
        "outputId": "11fb4ef5-ce32-44d6-ea62-f55570fdaa72"
      },
      "execution_count": null,
      "outputs": [
        {
          "output_type": "stream",
          "name": "stdout",
          "text": [
            "\n",
            "Logistic Regression Prediction: M\n",
            "Object is a Mine\n"
          ]
        }
      ]
    },
    {
      "cell_type": "code",
      "source": [
        "input_data = (\n",
        "    0.0200, 0.0371, 0.0428, 0.0207, 0.0954, 0.0986, 0.1539, 0.1601, 0.3109, 0.2111,\n",
        "    0.1609, 0.1582, 0.2238, 0.0645, 0.0660, 0.2273, 0.3100, 0.2999, 0.5078, 0.4797,\n",
        "    0.5783, 0.5071, 0.4328, 0.5550, 0.6711, 0.6415, 0.7104, 0.8080, 0.6791, 0.3857,\n",
        "    0.1307, 0.2604, 0.5121, 0.7547, 0.8537, 0.8507, 0.6692, 0.6097, 0.4943, 0.2744,\n",
        "    0.0510, 0.2834, 0.2825, 0.4256, 0.2641, 0.1386, 0.1051, 0.1343, 0.0383, 0.0324,\n",
        "    0.0232, 0.0027, 0.0065, 0.0159, 0.0072, 0.0167, 0.0180, 0.0084, 0.0090, 0.0032\n",
        ")\n",
        "try:\n",
        "    if len(input_data) != 60:\n",
        "        raise ValueError(\"Input data must have exactly 60 features.\")\n",
        "    input_data_selected = np.array(input_data)[selected_indices].reshape(1, -1)  # Select same features\n",
        "    input_data_scaled = scaler.transform(input_data_selected)  # Apply scaling\n",
        "    lr_prediction = lr_model.predict(input_data_scaled)\n",
        "    print(\"\\nLogistic Regression Prediction:\", lr_prediction[0])\n",
        "    print(\"Object is a\", \"Rock\" if lr_prediction[0] == 'R' else \"Mine\")\n",
        "except Exception as e:\n",
        "    print(f\"Error in prediction: {e}\")"
      ],
      "metadata": {
        "colab": {
          "base_uri": "https://localhost:8080/"
        },
        "id": "V95pVhpgI3BK",
        "outputId": "fa63df33-f515-462f-ff37-43ca5f21d43f"
      },
      "execution_count": null,
      "outputs": [
        {
          "output_type": "stream",
          "name": "stdout",
          "text": [
            "\n",
            "Logistic Regression Prediction: R\n",
            "Object is a Rock\n"
          ]
        }
      ]
    }
  ]
}